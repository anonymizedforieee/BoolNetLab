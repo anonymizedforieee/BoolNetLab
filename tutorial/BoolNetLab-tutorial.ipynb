{
 "cells": [
  {
   "cell_type": "code",
   "execution_count": 1,
   "id": "5694c121",
   "metadata": {
    "ExecuteTime": {
     "end_time": "2025-10-17T13:58:27.787555833Z",
     "start_time": "2025-10-17T13:58:27.732231971Z"
    }
   },
   "outputs": [
    {
     "ename": "ModuleNotFoundError",
     "evalue": "No module named 'boolnetlab'",
     "output_type": "error",
     "traceback": [
      "\u001B[0;31m---------------------------------------------------------------------------\u001B[0m",
      "\u001B[0;31mModuleNotFoundError\u001B[0m                       Traceback (most recent call last)",
      "Cell \u001B[0;32mIn[1], line 3\u001B[0m\n\u001B[1;32m      1\u001B[0m \u001B[38;5;28;01mfrom\u001B[39;00m\u001B[38;5;250m \u001B[39m\u001B[38;5;21;01mIPython\u001B[39;00m\u001B[38;5;21;01m.\u001B[39;00m\u001B[38;5;21;01mdisplay\u001B[39;00m\u001B[38;5;250m \u001B[39m\u001B[38;5;28;01mimport\u001B[39;00m Image \u001B[38;5;66;03m# For visualisation of image files in Jupyter notebook\u001B[39;00m\n\u001B[0;32m----> 3\u001B[0m \u001B[38;5;28;01mfrom\u001B[39;00m\u001B[38;5;250m \u001B[39m\u001B[38;5;21;01mboolnetlab\u001B[39;00m\u001B[38;5;250m \u001B[39m\u001B[38;5;28;01mimport\u001B[39;00m BN_Realisation \u001B[38;5;28;01mas\u001B[39;00m BN\n",
      "\u001B[0;31mModuleNotFoundError\u001B[0m: No module named 'boolnetlab'"
     ]
    }
   ],
   "source": [
    "from IPython.display import Image # For visualisation of image files in Jupyter notebook\n",
    "\n",
    "from boolnetlab import BN_Realisation as BN"
   ]
  },
  {
   "cell_type": "markdown",
   "id": "14e293be",
   "metadata": {},
   "source": [
    "This is how a random Boolean network can be generated:"
   ]
  },
  {
   "cell_type": "code",
   "execution_count": null,
   "id": "9566f3f0",
   "metadata": {},
   "outputs": [],
   "source": [
    "bn_random = BN.generate_random_bn(num_nodes = 5, max_parent_nodes = 2, min_parent_nodes = 0, allow_self_loops = True, allow_input_nodes = True, mode = 'asynchronous')"
   ]
  },
  {
   "cell_type": "markdown",
   "id": "43aaaa1d",
   "metadata": {},
   "source": [
    "and saved to a file in the ISPL format:"
   ]
  },
  {
   "cell_type": "code",
   "execution_count": null,
   "id": "b39b6f30",
   "metadata": {},
   "outputs": [],
   "source": [
    "bn_random.save_ispl('saved_models/bn_random.ispl')"
   ]
  },
  {
   "cell_type": "markdown",
   "id": "400326a6",
   "metadata": {},
   "source": [
    "Let's load a model of 15 nodes: "
   ]
  },
  {
   "cell_type": "code",
   "execution_count": null,
   "id": "d9212f5f",
   "metadata": {},
   "outputs": [],
   "source": [
    "bn = BN.load_ispl('models/bn_7.ispl')"
   ]
  },
  {
   "cell_type": "markdown",
   "id": "6a7f6e14",
   "metadata": {},
   "source": [
    "Plot structure (node dependency) graph of the Boolean network with the use of specified layout. The possible layouts are: 'spring' (default), 'circular', 'forceatlas', 'planar', 'random', 'shell', and 'spectral'."
   ]
  },
  {
   "cell_type": "code",
   "execution_count": null,
   "id": "b7b96447",
   "metadata": {},
   "outputs": [],
   "source": [
    "bn.plot_structure_graph()"
   ]
  },
  {
   "cell_type": "code",
   "execution_count": null,
   "id": "486421e5",
   "metadata": {},
   "outputs": [],
   "source": [
    "bn.plot_structure_graph('planar')"
   ]
  },
  {
   "cell_type": "markdown",
   "id": "7e4a48a9",
   "metadata": {},
   "source": [
    "Plot the structure graph with PyGraphviz and save it to a file:"
   ]
  },
  {
   "cell_type": "code",
   "execution_count": null,
   "id": "20a7da6c",
   "metadata": {},
   "outputs": [],
   "source": [
    "filepath = 'aux/bn_7.png'\n",
    "bn.plot_structure_graph_pgv(filepath, layout='dot')\n",
    "Image(filename=filepath)"
   ]
  },
  {
   "cell_type": "markdown",
   "id": "6608a0a4",
   "metadata": {},
   "source": [
    "Make an interactive graph of the BN structure in HTML format. Once the generated HTML file is opened in a web browser:\n",
    "- the nodes can be moved around,\n",
    "- howering over edges displays the information on the Boolean function regulating the target node,\n",
    "- the layout algorithm can be chosen from the 'solver' dropdown list in the 'physics' section below, which also allows to set the specific parameters of the layout algorithm,\n",
    "- the image can be saved by right-clicking on the graph in the web browser and selecting \"Save image as ...\"."
   ]
  },
  {
   "cell_type": "code",
   "execution_count": null,
   "id": "ea412071",
   "metadata": {},
   "outputs": [],
   "source": [
    "filepath = 'aux/bn_7_interactive.html'\n",
    "bn.plot_structure_graph_interactive(filepath)"
   ]
  },
  {
   "cell_type": "markdown",
   "id": "7b22bb4f",
   "metadata": {},
   "source": [
    "Let us now compute the attractors:"
   ]
  },
  {
   "cell_type": "code",
   "execution_count": null,
   "id": "539b2d76",
   "metadata": {},
   "outputs": [],
   "source": [
    "bn_attractors = bn.find_all_attractors()"
   ]
  },
  {
   "cell_type": "markdown",
   "id": "68c50ed7",
   "metadata": {},
   "source": [
    "The method returns a list of Binary Decision Diagrams, each encoding a set of attractor states. The BDD-encoded attractors can be explicitly enumerated with the _enumerate_attractors() method returning a dictionary where keys are strings of the form 'Ai', where i is a consecutive number identifying each attractor (the numbering starts from 0), and each value is a set of attractor states.    "
   ]
  },
  {
   "cell_type": "code",
   "execution_count": null,
   "id": "856b2341",
   "metadata": {},
   "outputs": [],
   "source": [
    "attractor_states = bn._enumerate_attractors(bn_attractors)\n",
    "print(attractor_states)"
   ]
  },
  {
   "cell_type": "markdown",
   "id": "21d75bee",
   "metadata": {},
   "source": [
    "The state transision graph is computed with a brute-force approach and the computations may take a while. The visualisation makes sense for rather small networks of size not more than 10 nodes."
   ]
  },
  {
   "cell_type": "code",
   "execution_count": null,
   "id": "0cde5be4",
   "metadata": {},
   "outputs": [],
   "source": [
    "filepath = 'aux/bn_7_dynamics.png'\n",
    "bn.draw_state_transition_graph(filepath, highlight_attractors=False)\n",
    "Image(filename=filepath)"
   ]
  },
  {
   "cell_type": "markdown",
   "id": "2f059062",
   "metadata": {},
   "source": [
    "We can color the attractors in the state transition system:"
   ]
  },
  {
   "cell_type": "code",
   "execution_count": null,
   "id": "72f1ca18",
   "metadata": {},
   "outputs": [],
   "source": [
    "filepath = 'aux/bn_7_dynamics.png'\n",
    "bn.draw_state_transition_graph(filepath, highlight_attractors=True, use_bdds=False, transient_state_color='chartreuse')\n",
    "Image(filename=filepath)"
   ]
  },
  {
   "cell_type": "markdown",
   "id": "c9261315",
   "metadata": {},
   "source": [
    "Or we can choose our own colors:"
   ]
  },
  {
   "cell_type": "code",
   "execution_count": null,
   "id": "298290d6",
   "metadata": {},
   "outputs": [],
   "source": [
    "filepath = 'aux/bn_7_dynamics.png'\n",
    "bn.draw_state_transition_graph(filepath, highlight_attractors=True, use_bdds=True, color_names=['red', 'green'], transient_state_color='white')\n",
    "Image(filename=filepath)"
   ]
  },
  {
   "cell_type": "markdown",
   "id": "0850b64d",
   "metadata": {},
   "source": [
    "Let's now compute the attractors reachable from a list of specified states:"
   ]
  },
  {
   "cell_type": "code",
   "execution_count": null,
   "id": "bee415e9",
   "metadata": {},
   "outputs": [],
   "source": [
    "#reachable_attractors = bn.get_reachable_attractors_with_bdd([(0,0,0,1,1,0,0)])\n",
    "bn = BN.load_ispl('models/bn_7.ispl')\n",
    "\n",
    "state = (0,0,0,0,0,0,0)\n",
    "reachable_attractors = bn.get_reachable_attractors_with_bdd([state])\n",
    "print(reachable_attractors)\n",
    "print(f\"Attractor size: {len(reachable_attractors['A0'])}\")"
   ]
  },
  {
   "cell_type": "markdown",
   "id": "55a9f5df",
   "metadata": {},
   "source": [
    "The next step is to see how removing the edge x1 -> x5 in the structure graph of the network for 2 steps will influence the reachability of attractors:"
   ]
  },
  {
   "cell_type": "code",
   "execution_count": null,
   "id": "e50ba8bf",
   "metadata": {},
   "outputs": [],
   "source": [
    "bn = BN.load_ispl('models/bn_7.ispl')\n",
    "\n",
    "nsteps = 2\n",
    "\n",
    "reachable_attractors_er = bn.get_reachable_attractors_with_edge_removed('x1', 'x5', nsteps, state)\n",
    "print(reachable_attractors_er)\n"
   ]
  },
  {
   "cell_type": "code",
   "execution_count": null,
   "id": "bf2e953d",
   "metadata": {},
   "outputs": [],
   "source": [
    "import utils\n",
    "\n",
    "for i in range(2**len(bn.node_names)):\n",
    "    state  = utils.int2bin(i, len(bn.node_names))\n",
    "    state = tuple([0 if c == '0' else 1 for c in state])\n",
    "    print(f\"--- {i} ---\")\n",
    "    print(state)\n",
    "\n",
    "    #bn = BN.load_ispl('models/bn_7.ispl')\n",
    "    reachable_attractors_1 = bn.get_reachable_attractors_with_bdd([state])\n",
    "    reachable_attractors_2 = bn.get_reachable_attractors_with_edge_removed('x1', 'x5', nsteps, state)\n",
    "\n",
    "    a1 = reachable_attractors_1['A0']\n",
    "    a2 = reachable_attractors_2['A0']\n",
    "\n",
    "    if len(reachable_attractors_1) != len(reachable_attractors_2):\n",
    "        print(\"Numbers of attractors differ\")\n",
    "        print(reachable_attractors_1)\n",
    "        print(reachable_attractors_2)\n",
    "    elif a1 != a2:\n",
    "        print(\"Attractors differ\")\n",
    "        print(f\"Size 1: {len(a1)}, Size 2: {len(a2)} \")\n",
    "        print(a1.difference(a2))\n",
    "        print(a2.difference(a1))\n",
    "\n",
    "    print(\"---------\")\n",
    "\n"
   ]
  },
  {
   "cell_type": "markdown",
   "id": "9cff3022",
   "metadata": {},
   "source": [
    "We will now use BoolNetLab to verify the obtained result. For this purpose, we will draw a state transition graph of the original Boolean network with highlighted (with the yellow color) states that are reachable with the specified number of steps (nsteps) with the modified network dynamics. By visually inspecting the graph, one can see that indeed only the attractors returned by the get_reachable_attractors_with_edge_removed() method are reachable from the highlighted states: there is no path from any of the yellow states to the two-state attractor."
   ]
  },
  {
   "cell_type": "code",
   "execution_count": null,
   "id": "5ea402e8",
   "metadata": {},
   "outputs": [],
   "source": [
    "# Let us see how the function is changed\n",
    "new_fun = bn.remove_edge('x1', 'x5', modify_model=False)\n",
    "print(new_fun)\n",
    "bn_node_names = bn.node_names\n",
    "bn_funs = bn.functions_str\n",
    "bn_funs[3] = new_fun\n",
    "bn_modified = BN(bn_node_names, bn_funs)\n",
    "reachable_states = list(bn_modified.get_reachable_states_in_n_steps([state], num_steps=nsteps))\n",
    "\n",
    "filepath = 'aux/bn_7_dynamics_modified.png'\n",
    "bn.draw_state_transition_graph(filepath,\n",
    "                                highlight_attractors=True,\n",
    "                                use_bdds=True,\n",
    "                                color_names=['red', 'green'],\n",
    "                                transient_state_color='white',\n",
    "                                selected_state_groups=[reachable_states],\n",
    "                                selected_group_colors=['yellow'])\n",
    "Image(filename=filepath)\n"
   ]
  },
  {
   "cell_type": "markdown",
   "id": "b0617a39",
   "metadata": {},
   "source": [
    "Finally, let us use the Monte Carlo method to search for the attractors."
   ]
  },
  {
   "cell_type": "code",
   "execution_count": null,
   "id": "497dda35",
   "metadata": {},
   "outputs": [],
   "source": [
    "MC_attractors = bn.getAttractorsMonteCarlo(burn_in_len=1000, history_len=50000)\n",
    "print(MC_attractors)"
   ]
  },
  {
   "cell_type": "markdown",
   "id": "22ab202a",
   "metadata": {},
   "source": [
    "Let us check the accuracy of the Monte Carlo approach:"
   ]
  },
  {
   "cell_type": "code",
   "execution_count": null,
   "id": "23f7bbfa",
   "metadata": {},
   "outputs": [],
   "source": [
    "true_attractors = bn._enumerate_attractors(bn.find_all_attractors())\n",
    "\n",
    "true_attractor_states = set()\n",
    "for attractor in true_attractors.values():\n",
    "    true_attractor_states = true_attractor_states.union(attractor)\n",
    "\n",
    "MC_attractor_states = set()\n",
    "for attractor in MC_attractors.values():\n",
    "    MC_attractor_states = MC_attractor_states.union(attractor)\n",
    "\n",
    "false_positives = MC_attractor_states.difference(true_attractor_states)\n",
    "true_positives = MC_attractor_states.intersection(true_attractor_states)\n",
    "\n",
    "print(f\"False positive attractor states: {false_positives}\")\n",
    "print(f\"True positive attractor states: {true_positives}\")\n",
    "\n",
    "filepath = 'aux/bn_7_dynamics_modified.png'\n",
    "bn.draw_state_transition_graph(filepath,\n",
    "                                highlight_attractors=True,\n",
    "                                use_bdds=True,\n",
    "                                color_names=['red', 'green'],\n",
    "                                transient_state_color='white',\n",
    "                                selected_state_groups=[true_positives, false_positives],\n",
    "                                selected_group_colors=['palegreen', 'pink']\n",
    "                                )\n",
    "Image(filename=filepath)\n",
    "\n",
    "\n"
   ]
  }
 ],
 "metadata": {
  "kernelspec": {
   "display_name": "venv-boolnetlab",
   "language": "python",
   "name": "python3"
  },
  "language_info": {
   "codemirror_mode": {
    "name": "ipython",
    "version": 3
   },
   "file_extension": ".py",
   "mimetype": "text/x-python",
   "name": "python",
   "nbconvert_exporter": "python",
   "pygments_lexer": "ipython3",
   "version": "3.13.7"
  }
 },
 "nbformat": 4,
 "nbformat_minor": 5
}
